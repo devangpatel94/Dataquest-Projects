{
 "cells": [
  {
   "cell_type": "code",
   "execution_count": 14,
   "metadata": {
    "collapsed": false
   },
   "outputs": [
    {
     "name": "stdout",
     "output_type": "stream",
     "text": [
      "[['', 'year', 'month', 'intent', 'police', 'sex', 'age', 'race', 'hispanic', 'place', 'education'], ['1', '2012', '01', 'Suicide', '0', 'M', '34', 'Asian/Pacific Islander', '100', 'Home', '4'], ['2', '2012', '01', 'Suicide', '0', 'F', '21', 'White', '100', 'Street', '3'], ['3', '2012', '01', 'Suicide', '0', 'M', '60', 'White', '100', 'Other specified', '4']]\n"
     ]
    }
   ],
   "source": [
    "import csv\n",
    "f = open('guns.csv', 'r')\n",
    "data = list(csv.reader(f))\n",
    "print(data[:4])\n",
    "\n"
   ]
  },
  {
   "cell_type": "code",
   "execution_count": 15,
   "metadata": {
    "collapsed": false
   },
   "outputs": [
    {
     "name": "stdout",
     "output_type": "stream",
     "text": [
      "['', 'year', 'month', 'intent', 'police', 'sex', 'age', 'race', 'hispanic', 'place', 'education']\n",
      "[['1', '2012', '01', 'Suicide', '0', 'M', '34', 'Asian/Pacific Islander', '100', 'Home', '4'], ['2', '2012', '01', 'Suicide', '0', 'F', '21', 'White', '100', 'Street', '3'], ['3', '2012', '01', 'Suicide', '0', 'M', '60', 'White', '100', 'Other specified', '4'], ['4', '2012', '02', 'Suicide', '0', 'M', '64', 'White', '100', 'Home', '4']]\n"
     ]
    }
   ],
   "source": [
    "headers = data[0]\n",
    "data = data[1:]\n",
    "print(headers)\n",
    "print(data[:4])"
   ]
  },
  {
   "cell_type": "code",
   "execution_count": 3,
   "metadata": {
    "collapsed": false
   },
   "outputs": [
    {
     "name": "stdout",
     "output_type": "stream",
     "text": [
      "{'2013': 33636, '2012': 33563, '2014': 33599}\n"
     ]
    }
   ],
   "source": [
    "years = [each[1] for each in data]\n",
    "year_counts = {}\n",
    "for each in years:\n",
    "    if each in year_counts:\n",
    "        year_counts[each] += 1\n",
    "    else:\n",
    "        year_counts[each] = 1\n",
    "print(year_counts)"
   ]
  },
  {
   "cell_type": "code",
   "execution_count": 10,
   "metadata": {
    "collapsed": false
   },
   "outputs": [
    {
     "name": "stdout",
     "output_type": "stream",
     "text": [
      "[datetime.datetime(2012, 1, 1, 0, 0), datetime.datetime(2012, 1, 1, 0, 0), datetime.datetime(2012, 1, 1, 0, 0), datetime.datetime(2012, 2, 1, 0, 0)]\n"
     ]
    }
   ],
   "source": [
    "import datetime\n",
    "dates = [datetime.datetime(year = int(each[1]), month = int(each[2]), day = 1) for each in data]\n",
    "print(dates[:4])"
   ]
  },
  {
   "cell_type": "code",
   "execution_count": 12,
   "metadata": {
    "collapsed": false
   },
   "outputs": [
    {
     "name": "stdout",
     "output_type": "stream",
     "text": [
      "{'2014-11-01 00:00:00': 2756, '2012-03-01 00:00:00': 2743, '2014-12-01 00:00:00': 2857, '2013-08-01 00:00:00': 2859, '2012-09-01 00:00:00': 2852, '2012-11-01 00:00:00': 2729, '2012-02-01 00:00:00': 2357, '2012-04-01 00:00:00': 2795, '2014-02-01 00:00:00': 2361, '2014-04-01 00:00:00': 2862, '2013-02-01 00:00:00': 2375, '2013-04-01 00:00:00': 2798, '2013-01-01 00:00:00': 2864, '2014-08-01 00:00:00': 2970, '2014-10-01 00:00:00': 2865, '2012-08-01 00:00:00': 2954, '2013-11-01 00:00:00': 2758, '2013-06-01 00:00:00': 2920, '2012-05-01 00:00:00': 2999, '2012-07-01 00:00:00': 3026, '2013-05-01 00:00:00': 2806, '2014-06-01 00:00:00': 2931, '2014-01-01 00:00:00': 2651, '2013-09-01 00:00:00': 2742, '2013-12-01 00:00:00': 2765, '2012-12-01 00:00:00': 2791, '2012-01-01 00:00:00': 2758, '2013-03-01 00:00:00': 2862, '2013-07-01 00:00:00': 3079, '2014-07-01 00:00:00': 2884, '2014-03-01 00:00:00': 2684, '2014-05-01 00:00:00': 2864, '2012-10-01 00:00:00': 2733, '2013-10-01 00:00:00': 2808, '2014-09-01 00:00:00': 2914, '2012-06-01 00:00:00': 2826}\n"
     ]
    }
   ],
   "source": [
    "date_counts = {}\n",
    "for each in dates:\n",
    "    if str(each) in date_counts:\n",
    "        date_counts[str(each)] += 1\n",
    "    else:\n",
    "        date_counts[str(each)] = 1\n",
    "print(date_counts)"
   ]
  },
  {
   "cell_type": "code",
   "execution_count": 18,
   "metadata": {
    "collapsed": false
   },
   "outputs": [
    {
     "name": "stdout",
     "output_type": "stream",
     "text": [
      "{'F': 14449, 'M': 86349}\n",
      "{'Native American/Native Alaskan': 917, 'Asian/Pacific Islander': 1326, 'Hispanic': 9022, 'White': 66237, 'Black': 23296}\n"
     ]
    }
   ],
   "source": [
    "sex_counts = {}\n",
    "race_counts = {}\n",
    "for each in data:\n",
    "    if each[5] in sex_counts:\n",
    "        sex_counts[each[5]] += 1\n",
    "    else:\n",
    "        sex_counts[each[5]] = 1\n",
    "    if each[7] in race_counts:\n",
    "        race_counts[each[7]] += 1\n",
    "    else:\n",
    "        race_counts[each[7]] = 1\n",
    "print(sex_counts)\n",
    "print(race_counts)"
   ]
  },
  {
   "cell_type": "markdown",
   "metadata": {},
   "source": [
    "So far we have learned gender and race breakdowns of gun related deaths. Intent, whether or not police were involved, education, and the place the deaths occurred can be examined."
   ]
  },
  {
   "cell_type": "code",
   "execution_count": 19,
   "metadata": {
    "collapsed": false
   },
   "outputs": [
    {
     "name": "stdout",
     "output_type": "stream",
     "text": [
      "[['Id', 'Year', 'Id', 'Sex', 'Id', 'Hispanic Origin', 'Id', 'Id2', 'Geography', 'Total', 'Race Alone - White', 'Race Alone - Hispanic', 'Race Alone - Black or African American', 'Race Alone - American Indian and Alaska Native', 'Race Alone - Asian', 'Race Alone - Native Hawaiian and Other Pacific Islander', 'Two or More Races'], ['cen42010', 'April 1, 2010 Census', 'totsex', 'Both Sexes', 'tothisp', 'Total', '0100000US', '', 'United States', '308745538', '197318956', '44618105', '40250635', '3739506', '15159516', '674625', '6984195']]\n"
     ]
    }
   ],
   "source": [
    "f = open('census.csv', 'r')\n",
    "census = list(csv.reader(f))\n",
    "print(census)"
   ]
  },
  {
   "cell_type": "code",
   "execution_count": 20,
   "metadata": {
    "collapsed": false
   },
   "outputs": [
    {
     "name": "stdout",
     "output_type": "stream",
     "text": [
      "{'Native American/Native Alaskan': 2.278224927383133, 'Asian/Pacific Islander': 8.374309664161762, 'Black': 52.211988832784364, 'White': 21.453589395678975, 'Hispanic': 4.572292588047142}\n"
     ]
    }
   ],
   "source": [
    "mapping = {'Asian/Pacific Islander':15834141, 'Black':44618105, 'Native American/Native Alaskan':40250635, 'Hispanic':197318956,'White':308745538}\n",
    "race_per_hundredk = {}\n",
    "for each in race_counts:\n",
    "    race_per_hundredk[each] = race_counts[each]/mapping[each] * 100000\n",
    "print(race_per_hundredk)\n"
   ]
  },
  {
   "cell_type": "code",
   "execution_count": null,
   "metadata": {
    "collapsed": true
   },
   "outputs": [],
   "source": [
    "intents = [each[3] for each in data]\n",
    "races = [each[7] for each in data]\n",
    "homicide_race_counts = {}\n",
    "for i, race in enumerate(races):\n",
    "    if intents[i] == 'Homicide':\n",
    "        if race not in homicide_race_counts:\n",
    "            homicide_race_counts[race] = 1\n",
    "        else:\n",
    "            homicide_race_counts += 1\n",
    "for each in homicide_race_counts:\n",
    "    homicide_race_counts[each] = homicide_race_counts[each]/mapping[each]\n",
    "    "
   ]
  }
 ],
 "metadata": {
  "celltoolbar": "Slideshow",
  "kernelspec": {
   "display_name": "Python 3",
   "language": "python",
   "name": "python3"
  },
  "language_info": {
   "codemirror_mode": {
    "name": "ipython",
    "version": 3
   },
   "file_extension": ".py",
   "mimetype": "text/x-python",
   "name": "python",
   "nbconvert_exporter": "python",
   "pygments_lexer": "ipython3",
   "version": "3.4.3"
  }
 },
 "nbformat": 4,
 "nbformat_minor": 0
}
